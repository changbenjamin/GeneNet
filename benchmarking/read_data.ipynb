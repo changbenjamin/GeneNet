{
 "cells": [
  {
   "attachments": {},
   "cell_type": "markdown",
   "metadata": {},
   "source": [
    "# Read Data\n",
    "\n",
    "Read in data from pickle files and transform to CSV."
   ]
  },
  {
   "cell_type": "code",
   "execution_count": 30,
   "metadata": {},
   "outputs": [],
   "source": [
    "# read data from pickle files\n",
    "# output: dataframes\n",
    "\n",
    "import pandas as pd\n",
    "import numpy as np\n",
    "\n",
    "# read data from pickle files\n",
    "test_neg = pd.read_pickle('test_neg.pickle')\n",
    "test_pos = pd.read_pickle('test_pos.pickle')\n",
    "train_neg = pd.read_pickle('train_neg.pickle')\n",
    "train_pos = pd.read_pickle('train_pos.pickle')"
   ]
  },
  {
   "attachments": {},
   "cell_type": "markdown",
   "metadata": {},
   "source": [
    "Convert edge lists, represented as tuples, to CSV."
   ]
  },
  {
   "cell_type": "code",
   "execution_count": 31,
   "metadata": {},
   "outputs": [
    {
     "name": "stdout",
     "output_type": "stream",
     "text": [
      "Test Dataset:\n",
      "(4070, 3)\n"
     ]
    },
    {
     "data": {
      "text/html": [
       "<div>\n",
       "<style scoped>\n",
       "    .dataframe tbody tr th:only-of-type {\n",
       "        vertical-align: middle;\n",
       "    }\n",
       "\n",
       "    .dataframe tbody tr th {\n",
       "        vertical-align: top;\n",
       "    }\n",
       "\n",
       "    .dataframe thead th {\n",
       "        text-align: right;\n",
       "    }\n",
       "</style>\n",
       "<table border=\"1\" class=\"dataframe\">\n",
       "  <thead>\n",
       "    <tr style=\"text-align: right;\">\n",
       "      <th></th>\n",
       "      <th>0</th>\n",
       "      <th>1</th>\n",
       "      <th>label</th>\n",
       "    </tr>\n",
       "  </thead>\n",
       "  <tbody>\n",
       "    <tr>\n",
       "      <th>0</th>\n",
       "      <td>101</td>\n",
       "      <td>3851</td>\n",
       "      <td>0</td>\n",
       "    </tr>\n",
       "    <tr>\n",
       "      <th>1</th>\n",
       "      <td>138</td>\n",
       "      <td>2034</td>\n",
       "      <td>0</td>\n",
       "    </tr>\n",
       "    <tr>\n",
       "      <th>2</th>\n",
       "      <td>56</td>\n",
       "      <td>1450</td>\n",
       "      <td>0</td>\n",
       "    </tr>\n",
       "    <tr>\n",
       "      <th>3</th>\n",
       "      <td>104</td>\n",
       "      <td>2126</td>\n",
       "      <td>0</td>\n",
       "    </tr>\n",
       "    <tr>\n",
       "      <th>4</th>\n",
       "      <td>112</td>\n",
       "      <td>3519</td>\n",
       "      <td>0</td>\n",
       "    </tr>\n",
       "  </tbody>\n",
       "</table>\n",
       "</div>"
      ],
      "text/plain": [
       "     0     1  label\n",
       "0  101  3851      0\n",
       "1  138  2034      0\n",
       "2   56  1450      0\n",
       "3  104  2126      0\n",
       "4  112  3519      0"
      ]
     },
     "execution_count": 31,
     "metadata": {},
     "output_type": "execute_result"
    }
   ],
   "source": [
    "# convert tuples to dataframes\n",
    "test_neg = pd.DataFrame(test_neg).transpose()\n",
    "test_pos = pd.DataFrame(test_pos).transpose()\n",
    "\n",
    "# add columns with labels\n",
    "test_neg['label'] = 0\n",
    "test_pos['label'] = 1\n",
    "\n",
    "# combine dataframes\n",
    "test = pd.concat([test_neg, test_pos], ignore_index=True)\n",
    "\n",
    "# summarize data\n",
    "print('Test Dataset:')\n",
    "print(test.shape)\n",
    "test.head()"
   ]
  },
  {
   "attachments": {},
   "cell_type": "markdown",
   "metadata": {},
   "source": [
    "Save data as CSV."
   ]
  },
  {
   "cell_type": "code",
   "execution_count": 27,
   "metadata": {},
   "outputs": [],
   "source": [
    "# save data as CSV\n",
    "test.to_csv('test_dataset.csv', index=False)"
   ]
  },
  {
   "attachments": {},
   "cell_type": "markdown",
   "metadata": {},
   "source": [
    "# Read DREAM5"
   ]
  },
  {
   "cell_type": "code",
   "execution_count": 32,
   "metadata": {},
   "outputs": [],
   "source": [
    "# read DREAM5\n",
    "ecoli_data = pd.read_csv('../DREAM5/Ecoli/ecoli_data.tsv', sep='\\t', header=None)\n",
    "ecoli_gene_names = pd.read_csv('../DREAM5/Ecoli/ecoli_gene_names.tsv', sep='\\t', header=None)\n",
    "ecoli_tf_names = pd.read_csv('../DREAM5/Ecoli/ecoli_tf_names.tsv', sep='\\t', header=None)\n",
    "ecoli_experiments = pd.read_csv('../DREAM5/Ecoli/ecoli_experiments.tsv', sep='\\t', header=None)\n",
    "\n",
    "# add row names: gene names\n",
    "ecoli_data.insert(0, 'Gene', ecoli_gene_names[0])\n",
    "\n",
    "# add column names: experiments"
   ]
  },
  {
   "attachments": {},
   "cell_type": "markdown",
   "metadata": {},
   "source": [
    "Run sanity check that TF is in gene names."
   ]
  },
  {
   "cell_type": "code",
   "execution_count": 33,
   "metadata": {},
   "outputs": [
    {
     "data": {
      "text/plain": [
       "True"
      ]
     },
     "execution_count": 33,
     "metadata": {},
     "output_type": "execute_result"
    }
   ],
   "source": [
    "# check if TF in gene names\n",
    "tf_names_list = ecoli_tf_names[0].to_list()\n",
    "gene_names_list = ecoli_gene_names[0].to_list()\n",
    "'aaeR' in gene_names_list"
   ]
  },
  {
   "attachments": {},
   "cell_type": "markdown",
   "metadata": {},
   "source": [
    "Save to CSV."
   ]
  },
  {
   "cell_type": "code",
   "execution_count": null,
   "metadata": {},
   "outputs": [],
   "source": [
    "# save data to CSV\n",
    "ecoli_data.to_csv('ecoli_data.csv', index=False)\n",
    "ecoli_gene_names.to_csv('ecoli_gene_names.csv', index=False)\n",
    "ecoli_tf_names.to_csv('ecoli_tf_names.csv', index=False)"
   ]
  },
  {
   "attachments": {},
   "cell_type": "markdown",
   "metadata": {},
   "source": [
    "# Read Weight Matrices\n",
    "\n",
    "First, read in weight matrices computed in `benchmarking.Rmd`."
   ]
  },
  {
   "cell_type": "code",
   "execution_count": 16,
   "metadata": {},
   "outputs": [],
   "source": [
    "# read data from CSV files\n",
    "aracne = pd.read_csv('aracne_weight_matrix.csv')\n",
    "clr = pd.read_csv('clr_weight_matrix.csv')\n",
    "mrnet = pd.read_csv('mrnet_weight_matrix.csv')\n",
    "genie3 = pd.read_csv('genie3_weight_matrix.csv')\n",
    "\n",
    "# set first column name to 'Gene'\n",
    "aracne.columns.values[0] = 'Gene'\n",
    "clr.columns.values[0] = 'Gene'\n",
    "mrnet.columns.values[0] = 'Gene'\n",
    "genie3.columns.values[0] = 'Gene'\n",
    "\n",
    "# set first column as index and drop first column\n",
    "aracne = aracne.set_index(aracne.columns[0])\n",
    "aracne = aracne.drop(aracne.index[0])\n",
    "clr = clr.set_index(clr.columns[0])\n",
    "clr = clr.drop(clr.index[0])\n",
    "mrnet = mrnet.set_index(mrnet.columns[0])\n",
    "mrnet = mrnet.drop(mrnet.index[0])\n",
    "genie3 = genie3.set_index(genie3.columns[0])\n",
    "genie3 = genie3.drop(genie3.index[0])"
   ]
  },
  {
   "attachments": {},
   "cell_type": "markdown",
   "metadata": {},
   "source": [
    "Read in test dataset."
   ]
  },
  {
   "cell_type": "code",
   "execution_count": 22,
   "metadata": {},
   "outputs": [
    {
     "data": {
      "text/html": [
       "<div>\n",
       "<style scoped>\n",
       "    .dataframe tbody tr th:only-of-type {\n",
       "        vertical-align: middle;\n",
       "    }\n",
       "\n",
       "    .dataframe tbody tr th {\n",
       "        vertical-align: top;\n",
       "    }\n",
       "\n",
       "    .dataframe thead th {\n",
       "        text-align: right;\n",
       "    }\n",
       "</style>\n",
       "<table border=\"1\" class=\"dataframe\">\n",
       "  <thead>\n",
       "    <tr style=\"text-align: right;\">\n",
       "      <th></th>\n",
       "      <th>0</th>\n",
       "      <th>1</th>\n",
       "      <th>label</th>\n",
       "    </tr>\n",
       "  </thead>\n",
       "  <tbody>\n",
       "    <tr>\n",
       "      <th>0</th>\n",
       "      <td>101</td>\n",
       "      <td>3851</td>\n",
       "      <td>0</td>\n",
       "    </tr>\n",
       "    <tr>\n",
       "      <th>1</th>\n",
       "      <td>138</td>\n",
       "      <td>2034</td>\n",
       "      <td>0</td>\n",
       "    </tr>\n",
       "    <tr>\n",
       "      <th>2</th>\n",
       "      <td>56</td>\n",
       "      <td>1450</td>\n",
       "      <td>0</td>\n",
       "    </tr>\n",
       "    <tr>\n",
       "      <th>3</th>\n",
       "      <td>104</td>\n",
       "      <td>2126</td>\n",
       "      <td>0</td>\n",
       "    </tr>\n",
       "    <tr>\n",
       "      <th>4</th>\n",
       "      <td>112</td>\n",
       "      <td>3519</td>\n",
       "      <td>0</td>\n",
       "    </tr>\n",
       "  </tbody>\n",
       "</table>\n",
       "</div>"
      ],
      "text/plain": [
       "     0     1  label\n",
       "0  101  3851      0\n",
       "1  138  2034      0\n",
       "2   56  1450      0\n",
       "3  104  2126      0\n",
       "4  112  3519      0"
      ]
     },
     "execution_count": 22,
     "metadata": {},
     "output_type": "execute_result"
    }
   ],
   "source": [
    "test = pd.read_csv('test_dataset.csv')\n",
    "test_names = pd.read_csv('ecoli_gene_names.csv')\n",
    "\n",
    "# set names of test_names column as Gene\n",
    "test_names.columns.values[0] = 'Gene'\n",
    "\n",
    "test.head()"
   ]
  },
  {
   "cell_type": "code",
   "execution_count": null,
   "metadata": {},
   "outputs": [],
   "source": [
    "for index, row in test.iterrows():\n",
    "\n",
    "    gene_0 = row['0']\n",
    "    gene_1 = row['1']"
   ]
  }
 ],
 "metadata": {
  "kernelspec": {
   "display_name": "neuroKG",
   "language": "python",
   "name": "python3"
  },
  "language_info": {
   "codemirror_mode": {
    "name": "ipython",
    "version": 3
   },
   "file_extension": ".py",
   "mimetype": "text/x-python",
   "name": "python",
   "nbconvert_exporter": "python",
   "pygments_lexer": "ipython3",
   "version": "3.10.9"
  },
  "orig_nbformat": 4
 },
 "nbformat": 4,
 "nbformat_minor": 2
}
