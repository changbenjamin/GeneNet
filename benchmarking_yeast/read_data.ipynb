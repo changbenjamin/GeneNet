{
 "cells": [
  {
   "attachments": {},
   "cell_type": "markdown",
   "metadata": {},
   "source": [
    "# Read Data\n",
    "\n",
    "Read packages."
   ]
  },
  {
   "cell_type": "code",
   "execution_count": 8,
   "metadata": {},
   "outputs": [],
   "source": [
    "# read data from pickle files\n",
    "# output: dataframes\n",
    "\n",
    "import pandas as pd\n",
    "import numpy as np\n"
   ]
  },
  {
   "attachments": {},
   "cell_type": "markdown",
   "metadata": {},
   "source": [
    "Read in data from pickle files and transform to CSV."
   ]
  },
  {
   "cell_type": "code",
   "execution_count": 9,
   "metadata": {},
   "outputs": [],
   "source": [
    "# read data from pickle files\n",
    "test_neg = pd.read_pickle('test_neg.pickle')\n",
    "test_pos = pd.read_pickle('test_pos.pickle')\n",
    "train_neg = pd.read_pickle('train_neg.pickle')\n",
    "train_pos = pd.read_pickle('train_pos.pickle')"
   ]
  },
  {
   "attachments": {},
   "cell_type": "markdown",
   "metadata": {},
   "source": [
    "Convert edge lists, represented as tuples, to CSV."
   ]
  },
  {
   "cell_type": "code",
   "execution_count": 10,
   "metadata": {},
   "outputs": [
    {
     "name": "stdout",
     "output_type": "stream",
     "text": [
      "Test Dataset:\n",
      "(7792, 3)\n"
     ]
    },
    {
     "data": {
      "text/html": [
       "<div>\n",
       "<style scoped>\n",
       "    .dataframe tbody tr th:only-of-type {\n",
       "        vertical-align: middle;\n",
       "    }\n",
       "\n",
       "    .dataframe tbody tr th {\n",
       "        vertical-align: top;\n",
       "    }\n",
       "\n",
       "    .dataframe thead th {\n",
       "        text-align: right;\n",
       "    }\n",
       "</style>\n",
       "<table border=\"1\" class=\"dataframe\">\n",
       "  <thead>\n",
       "    <tr style=\"text-align: right;\">\n",
       "      <th></th>\n",
       "      <th>0</th>\n",
       "      <th>1</th>\n",
       "      <th>label</th>\n",
       "    </tr>\n",
       "  </thead>\n",
       "  <tbody>\n",
       "    <tr>\n",
       "      <th>0</th>\n",
       "      <td>188</td>\n",
       "      <td>1695</td>\n",
       "      <td>0</td>\n",
       "    </tr>\n",
       "    <tr>\n",
       "      <th>1</th>\n",
       "      <td>151</td>\n",
       "      <td>5154</td>\n",
       "      <td>0</td>\n",
       "    </tr>\n",
       "    <tr>\n",
       "      <th>2</th>\n",
       "      <td>162</td>\n",
       "      <td>1735</td>\n",
       "      <td>0</td>\n",
       "    </tr>\n",
       "    <tr>\n",
       "      <th>3</th>\n",
       "      <td>37</td>\n",
       "      <td>4632</td>\n",
       "      <td>0</td>\n",
       "    </tr>\n",
       "    <tr>\n",
       "      <th>4</th>\n",
       "      <td>113</td>\n",
       "      <td>1187</td>\n",
       "      <td>0</td>\n",
       "    </tr>\n",
       "  </tbody>\n",
       "</table>\n",
       "</div>"
      ],
      "text/plain": [
       "     0     1  label\n",
       "0  188  1695      0\n",
       "1  151  5154      0\n",
       "2  162  1735      0\n",
       "3   37  4632      0\n",
       "4  113  1187      0"
      ]
     },
     "execution_count": 10,
     "metadata": {},
     "output_type": "execute_result"
    }
   ],
   "source": [
    "# convert tuples to dataframes\n",
    "test_neg = pd.DataFrame(test_neg).transpose()\n",
    "test_pos = pd.DataFrame(test_pos).transpose()\n",
    "\n",
    "# add columns with labels\n",
    "test_neg['label'] = 0\n",
    "test_pos['label'] = 1\n",
    "\n",
    "# combine dataframes\n",
    "test = pd.concat([test_neg, test_pos], ignore_index=True)\n",
    "\n",
    "# summarize data\n",
    "print('Test Dataset:')\n",
    "print(test.shape)\n",
    "test.head()"
   ]
  },
  {
   "attachments": {},
   "cell_type": "markdown",
   "metadata": {},
   "source": [
    "Save data as CSV."
   ]
  },
  {
   "cell_type": "code",
   "execution_count": 11,
   "metadata": {},
   "outputs": [],
   "source": [
    "# save data as CSV\n",
    "test.to_csv('test_dataset.csv', index=False)"
   ]
  },
  {
   "attachments": {},
   "cell_type": "markdown",
   "metadata": {},
   "source": [
    "# Read DREAM5"
   ]
  },
  {
   "cell_type": "code",
   "execution_count": 3,
   "metadata": {},
   "outputs": [],
   "source": [
    "# read DREAM5\n",
    "yeast_data = pd.read_csv('../DREAM5/Scerevisiae/yeast_data.tsv', sep='\\t', header=None)\n",
    "yeast_gene_names = pd.read_csv('../DREAM5/Scerevisiae/yeast_gene_names.tsv', sep='\\t', header=None)\n",
    "yeast_tf_names = pd.read_csv('../DREAM5/Scerevisiae/yeast_tf_names.tsv', sep='\\t', header=None)\n",
    "yeast_experiments = pd.read_csv('../DREAM5/Scerevisiae/yeast_experiments.tsv', sep='\\t', header=None)\n",
    "\n",
    "# add row names: gene names\n",
    "yeast_data.insert(0, 'Gene', yeast_gene_names[0])\n",
    "\n",
    "# add column names: experiments"
   ]
  },
  {
   "attachments": {},
   "cell_type": "markdown",
   "metadata": {},
   "source": [
    "Run sanity check that TF is in gene names."
   ]
  },
  {
   "cell_type": "code",
   "execution_count": 6,
   "metadata": {},
   "outputs": [],
   "source": [
    "# check if TF in gene names\n",
    "tf_names_list = yeast_tf_names[0].to_list()\n",
    "gene_names_list = yeast_gene_names[0].to_list()"
   ]
  },
  {
   "attachments": {},
   "cell_type": "markdown",
   "metadata": {},
   "source": [
    "Save to CSV."
   ]
  },
  {
   "cell_type": "code",
   "execution_count": 7,
   "metadata": {},
   "outputs": [],
   "source": [
    "# save data to CSV\n",
    "yeast_data.to_csv('yeast_data.csv', index=False)\n",
    "yeast_gene_names.to_csv('yeast_gene_names.csv', index=False)\n",
    "yeast_tf_names.to_csv('yeast_tf_names.csv', index=False)"
   ]
  }
 ],
 "metadata": {
  "kernelspec": {
   "display_name": "neuroKG",
   "language": "python",
   "name": "python3"
  },
  "language_info": {
   "codemirror_mode": {
    "name": "ipython",
    "version": 3
   },
   "file_extension": ".py",
   "mimetype": "text/x-python",
   "name": "python",
   "nbconvert_exporter": "python",
   "pygments_lexer": "ipython3",
   "version": "3.10.9"
  },
  "orig_nbformat": 4
 },
 "nbformat": 4,
 "nbformat_minor": 2
}
